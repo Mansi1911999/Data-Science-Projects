{
  "nbformat": 4,
  "nbformat_minor": 0,
  "metadata": {
    "colab": {
      "provenance": [],
      "authorship_tag": "ABX9TyNYdM2XAGwbkmBB6SOryu8u",
      "include_colab_link": true
    },
    "kernelspec": {
      "name": "python3",
      "display_name": "Python 3"
    },
    "language_info": {
      "name": "python"
    }
  },
  "cells": [
    {
      "cell_type": "markdown",
      "metadata": {
        "id": "view-in-github",
        "colab_type": "text"
      },
      "source": [
        "<a href=\"https://colab.research.google.com/github/Mansi1911999/Data-Science-Projects/blob/main/Data_Wrangling_Projects.ipynb\" target=\"_parent\"><img src=\"https://colab.research.google.com/assets/colab-badge.svg\" alt=\"Open In Colab\"/></a>"
      ]
    },
    {
      "cell_type": "markdown",
      "source": [
        "# **Top 100 Companies in INDIA**"
      ],
      "metadata": {
        "id": "yKo5vHRlT4fV"
      }
    },
    {
      "cell_type": "markdown",
      "source": [
        "Dataset = https://www.kaggle.com/datasets/shiivvvaam/revenue-of-top-companies-in-india"
      ],
      "metadata": {
        "id": "cX7ypDd_UA_G"
      }
    },
    {
      "cell_type": "markdown",
      "source": [
        "##**About Dataset**\n",
        "**Description**: This dataset provides comprehensive insights into the top 100 companies in India, encompassing a diverse range of industries such as finance, manufacturing, telecommunications, and more. It includes essential attributes such as company rankings, market capitalization, share prices, revenue, and additional categorical information. The dataset offers a snapshot of the Indian business landscape, shedding light on key players, their financial standing, and their contributions to the country's economic growth."
      ],
      "metadata": {
        "id": "O6aelrUCxyFh"
      }
    },
    {
      "cell_type": "markdown",
      "source": [
        "####**Import the required libraries**"
      ],
      "metadata": {
        "id": "SBa3GOWWZ3Yf"
      }
    },
    {
      "cell_type": "code",
      "source": [
        "import pandas as pd\n",
        "import numpy as np\n",
        "import matplotlib.pyplot as plt\n",
        "import seaborn as sns"
      ],
      "metadata": {
        "id": "BxP6I7kVUIIA"
      },
      "execution_count": null,
      "outputs": []
    },
    {
      "cell_type": "code",
      "source": [
        "data = pd.read_csv(\"/content/revenuefinal.csv\")\n",
        "data.head()"
      ],
      "metadata": {
        "colab": {
          "base_uri": "https://localhost:8080/",
          "height": 206
        },
        "id": "m4nnEFS_UVEl",
        "outputId": "f701814b-d533-46e9-999c-2110bbdf4eaa"
      },
      "execution_count": null,
      "outputs": [
        {
          "output_type": "execute_result",
          "data": {
            "text/plain": [
              "   SerialNumber                                     Names   Rank Marketcap  \\\n",
              "0             1                              Shree Cement  #1344  $12.13 B   \n",
              "1             2                 Shriram Transport Finance  #1513  $10.42 B   \n",
              "2             3  National Mineral Development Corporation  #1914   $7.65 B   \n",
              "3             4                                       ACC  #2394   $5.59 B   \n",
              "4             5                             Siemens India   #985  $18.02 B   \n",
              "\n",
              "  Share.Price            Categories  Revenue Country  \n",
              "0     $336.31                   NaN  $2.28 B   India  \n",
              "1      $27.76  💳 Financial services  $2.29 B   India  \n",
              "2       $2.61             ⛏️ Mining  $2.30 B   India  \n",
              "3      $29.69                Cement  $2.30 B   India  \n",
              "4      $50.60                   NaN  $2.33 B   India  "
            ],
            "text/html": [
              "\n",
              "  <div id=\"df-d71944d9-e654-44c1-a111-170b6e85db28\" class=\"colab-df-container\">\n",
              "    <div>\n",
              "<style scoped>\n",
              "    .dataframe tbody tr th:only-of-type {\n",
              "        vertical-align: middle;\n",
              "    }\n",
              "\n",
              "    .dataframe tbody tr th {\n",
              "        vertical-align: top;\n",
              "    }\n",
              "\n",
              "    .dataframe thead th {\n",
              "        text-align: right;\n",
              "    }\n",
              "</style>\n",
              "<table border=\"1\" class=\"dataframe\">\n",
              "  <thead>\n",
              "    <tr style=\"text-align: right;\">\n",
              "      <th></th>\n",
              "      <th>SerialNumber</th>\n",
              "      <th>Names</th>\n",
              "      <th>Rank</th>\n",
              "      <th>Marketcap</th>\n",
              "      <th>Share.Price</th>\n",
              "      <th>Categories</th>\n",
              "      <th>Revenue</th>\n",
              "      <th>Country</th>\n",
              "    </tr>\n",
              "  </thead>\n",
              "  <tbody>\n",
              "    <tr>\n",
              "      <th>0</th>\n",
              "      <td>1</td>\n",
              "      <td>Shree Cement</td>\n",
              "      <td>#1344</td>\n",
              "      <td>$12.13 B</td>\n",
              "      <td>$336.31</td>\n",
              "      <td>NaN</td>\n",
              "      <td>$2.28 B</td>\n",
              "      <td>India</td>\n",
              "    </tr>\n",
              "    <tr>\n",
              "      <th>1</th>\n",
              "      <td>2</td>\n",
              "      <td>Shriram Transport Finance</td>\n",
              "      <td>#1513</td>\n",
              "      <td>$10.42 B</td>\n",
              "      <td>$27.76</td>\n",
              "      <td>💳 Financial services</td>\n",
              "      <td>$2.29 B</td>\n",
              "      <td>India</td>\n",
              "    </tr>\n",
              "    <tr>\n",
              "      <th>2</th>\n",
              "      <td>3</td>\n",
              "      <td>National Mineral Development Corporation</td>\n",
              "      <td>#1914</td>\n",
              "      <td>$7.65 B</td>\n",
              "      <td>$2.61</td>\n",
              "      <td>⛏️ Mining</td>\n",
              "      <td>$2.30 B</td>\n",
              "      <td>India</td>\n",
              "    </tr>\n",
              "    <tr>\n",
              "      <th>3</th>\n",
              "      <td>4</td>\n",
              "      <td>ACC</td>\n",
              "      <td>#2394</td>\n",
              "      <td>$5.59 B</td>\n",
              "      <td>$29.69</td>\n",
              "      <td>Cement</td>\n",
              "      <td>$2.30 B</td>\n",
              "      <td>India</td>\n",
              "    </tr>\n",
              "    <tr>\n",
              "      <th>4</th>\n",
              "      <td>5</td>\n",
              "      <td>Siemens India</td>\n",
              "      <td>#985</td>\n",
              "      <td>$18.02 B</td>\n",
              "      <td>$50.60</td>\n",
              "      <td>NaN</td>\n",
              "      <td>$2.33 B</td>\n",
              "      <td>India</td>\n",
              "    </tr>\n",
              "  </tbody>\n",
              "</table>\n",
              "</div>\n",
              "    <div class=\"colab-df-buttons\">\n",
              "\n",
              "  <div class=\"colab-df-container\">\n",
              "    <button class=\"colab-df-convert\" onclick=\"convertToInteractive('df-d71944d9-e654-44c1-a111-170b6e85db28')\"\n",
              "            title=\"Convert this dataframe to an interactive table.\"\n",
              "            style=\"display:none;\">\n",
              "\n",
              "  <svg xmlns=\"http://www.w3.org/2000/svg\" height=\"24px\" viewBox=\"0 -960 960 960\">\n",
              "    <path d=\"M120-120v-720h720v720H120Zm60-500h600v-160H180v160Zm220 220h160v-160H400v160Zm0 220h160v-160H400v160ZM180-400h160v-160H180v160Zm440 0h160v-160H620v160ZM180-180h160v-160H180v160Zm440 0h160v-160H620v160Z\"/>\n",
              "  </svg>\n",
              "    </button>\n",
              "\n",
              "  <style>\n",
              "    .colab-df-container {\n",
              "      display:flex;\n",
              "      gap: 12px;\n",
              "    }\n",
              "\n",
              "    .colab-df-convert {\n",
              "      background-color: #E8F0FE;\n",
              "      border: none;\n",
              "      border-radius: 50%;\n",
              "      cursor: pointer;\n",
              "      display: none;\n",
              "      fill: #1967D2;\n",
              "      height: 32px;\n",
              "      padding: 0 0 0 0;\n",
              "      width: 32px;\n",
              "    }\n",
              "\n",
              "    .colab-df-convert:hover {\n",
              "      background-color: #E2EBFA;\n",
              "      box-shadow: 0px 1px 2px rgba(60, 64, 67, 0.3), 0px 1px 3px 1px rgba(60, 64, 67, 0.15);\n",
              "      fill: #174EA6;\n",
              "    }\n",
              "\n",
              "    .colab-df-buttons div {\n",
              "      margin-bottom: 4px;\n",
              "    }\n",
              "\n",
              "    [theme=dark] .colab-df-convert {\n",
              "      background-color: #3B4455;\n",
              "      fill: #D2E3FC;\n",
              "    }\n",
              "\n",
              "    [theme=dark] .colab-df-convert:hover {\n",
              "      background-color: #434B5C;\n",
              "      box-shadow: 0px 1px 3px 1px rgba(0, 0, 0, 0.15);\n",
              "      filter: drop-shadow(0px 1px 2px rgba(0, 0, 0, 0.3));\n",
              "      fill: #FFFFFF;\n",
              "    }\n",
              "  </style>\n",
              "\n",
              "    <script>\n",
              "      const buttonEl =\n",
              "        document.querySelector('#df-d71944d9-e654-44c1-a111-170b6e85db28 button.colab-df-convert');\n",
              "      buttonEl.style.display =\n",
              "        google.colab.kernel.accessAllowed ? 'block' : 'none';\n",
              "\n",
              "      async function convertToInteractive(key) {\n",
              "        const element = document.querySelector('#df-d71944d9-e654-44c1-a111-170b6e85db28');\n",
              "        const dataTable =\n",
              "          await google.colab.kernel.invokeFunction('convertToInteractive',\n",
              "                                                    [key], {});\n",
              "        if (!dataTable) return;\n",
              "\n",
              "        const docLinkHtml = 'Like what you see? Visit the ' +\n",
              "          '<a target=\"_blank\" href=https://colab.research.google.com/notebooks/data_table.ipynb>data table notebook</a>'\n",
              "          + ' to learn more about interactive tables.';\n",
              "        element.innerHTML = '';\n",
              "        dataTable['output_type'] = 'display_data';\n",
              "        await google.colab.output.renderOutput(dataTable, element);\n",
              "        const docLink = document.createElement('div');\n",
              "        docLink.innerHTML = docLinkHtml;\n",
              "        element.appendChild(docLink);\n",
              "      }\n",
              "    </script>\n",
              "  </div>\n",
              "\n",
              "\n",
              "<div id=\"df-51596caa-9123-45bf-be71-9791f4a5ba7e\">\n",
              "  <button class=\"colab-df-quickchart\" onclick=\"quickchart('df-51596caa-9123-45bf-be71-9791f4a5ba7e')\"\n",
              "            title=\"Suggest charts\"\n",
              "            style=\"display:none;\">\n",
              "\n",
              "<svg xmlns=\"http://www.w3.org/2000/svg\" height=\"24px\"viewBox=\"0 0 24 24\"\n",
              "     width=\"24px\">\n",
              "    <g>\n",
              "        <path d=\"M19 3H5c-1.1 0-2 .9-2 2v14c0 1.1.9 2 2 2h14c1.1 0 2-.9 2-2V5c0-1.1-.9-2-2-2zM9 17H7v-7h2v7zm4 0h-2V7h2v10zm4 0h-2v-4h2v4z\"/>\n",
              "    </g>\n",
              "</svg>\n",
              "  </button>\n",
              "\n",
              "<style>\n",
              "  .colab-df-quickchart {\n",
              "      --bg-color: #E8F0FE;\n",
              "      --fill-color: #1967D2;\n",
              "      --hover-bg-color: #E2EBFA;\n",
              "      --hover-fill-color: #174EA6;\n",
              "      --disabled-fill-color: #AAA;\n",
              "      --disabled-bg-color: #DDD;\n",
              "  }\n",
              "\n",
              "  [theme=dark] .colab-df-quickchart {\n",
              "      --bg-color: #3B4455;\n",
              "      --fill-color: #D2E3FC;\n",
              "      --hover-bg-color: #434B5C;\n",
              "      --hover-fill-color: #FFFFFF;\n",
              "      --disabled-bg-color: #3B4455;\n",
              "      --disabled-fill-color: #666;\n",
              "  }\n",
              "\n",
              "  .colab-df-quickchart {\n",
              "    background-color: var(--bg-color);\n",
              "    border: none;\n",
              "    border-radius: 50%;\n",
              "    cursor: pointer;\n",
              "    display: none;\n",
              "    fill: var(--fill-color);\n",
              "    height: 32px;\n",
              "    padding: 0;\n",
              "    width: 32px;\n",
              "  }\n",
              "\n",
              "  .colab-df-quickchart:hover {\n",
              "    background-color: var(--hover-bg-color);\n",
              "    box-shadow: 0 1px 2px rgba(60, 64, 67, 0.3), 0 1px 3px 1px rgba(60, 64, 67, 0.15);\n",
              "    fill: var(--button-hover-fill-color);\n",
              "  }\n",
              "\n",
              "  .colab-df-quickchart-complete:disabled,\n",
              "  .colab-df-quickchart-complete:disabled:hover {\n",
              "    background-color: var(--disabled-bg-color);\n",
              "    fill: var(--disabled-fill-color);\n",
              "    box-shadow: none;\n",
              "  }\n",
              "\n",
              "  .colab-df-spinner {\n",
              "    border: 2px solid var(--fill-color);\n",
              "    border-color: transparent;\n",
              "    border-bottom-color: var(--fill-color);\n",
              "    animation:\n",
              "      spin 1s steps(1) infinite;\n",
              "  }\n",
              "\n",
              "  @keyframes spin {\n",
              "    0% {\n",
              "      border-color: transparent;\n",
              "      border-bottom-color: var(--fill-color);\n",
              "      border-left-color: var(--fill-color);\n",
              "    }\n",
              "    20% {\n",
              "      border-color: transparent;\n",
              "      border-left-color: var(--fill-color);\n",
              "      border-top-color: var(--fill-color);\n",
              "    }\n",
              "    30% {\n",
              "      border-color: transparent;\n",
              "      border-left-color: var(--fill-color);\n",
              "      border-top-color: var(--fill-color);\n",
              "      border-right-color: var(--fill-color);\n",
              "    }\n",
              "    40% {\n",
              "      border-color: transparent;\n",
              "      border-right-color: var(--fill-color);\n",
              "      border-top-color: var(--fill-color);\n",
              "    }\n",
              "    60% {\n",
              "      border-color: transparent;\n",
              "      border-right-color: var(--fill-color);\n",
              "    }\n",
              "    80% {\n",
              "      border-color: transparent;\n",
              "      border-right-color: var(--fill-color);\n",
              "      border-bottom-color: var(--fill-color);\n",
              "    }\n",
              "    90% {\n",
              "      border-color: transparent;\n",
              "      border-bottom-color: var(--fill-color);\n",
              "    }\n",
              "  }\n",
              "</style>\n",
              "\n",
              "  <script>\n",
              "    async function quickchart(key) {\n",
              "      const quickchartButtonEl =\n",
              "        document.querySelector('#' + key + ' button');\n",
              "      quickchartButtonEl.disabled = true;  // To prevent multiple clicks.\n",
              "      quickchartButtonEl.classList.add('colab-df-spinner');\n",
              "      try {\n",
              "        const charts = await google.colab.kernel.invokeFunction(\n",
              "            'suggestCharts', [key], {});\n",
              "      } catch (error) {\n",
              "        console.error('Error during call to suggestCharts:', error);\n",
              "      }\n",
              "      quickchartButtonEl.classList.remove('colab-df-spinner');\n",
              "      quickchartButtonEl.classList.add('colab-df-quickchart-complete');\n",
              "    }\n",
              "    (() => {\n",
              "      let quickchartButtonEl =\n",
              "        document.querySelector('#df-51596caa-9123-45bf-be71-9791f4a5ba7e button');\n",
              "      quickchartButtonEl.style.display =\n",
              "        google.colab.kernel.accessAllowed ? 'block' : 'none';\n",
              "    })();\n",
              "  </script>\n",
              "</div>\n",
              "\n",
              "    </div>\n",
              "  </div>\n"
            ],
            "application/vnd.google.colaboratory.intrinsic+json": {
              "type": "dataframe",
              "variable_name": "data",
              "summary": "{\n  \"name\": \"data\",\n  \"rows\": 100,\n  \"fields\": [\n    {\n      \"column\": \"SerialNumber\",\n      \"properties\": {\n        \"dtype\": \"number\",\n        \"std\": 29,\n        \"min\": 1,\n        \"max\": 100,\n        \"num_unique_values\": 100,\n        \"samples\": [\n          84,\n          54,\n          71\n        ],\n        \"semantic_type\": \"\",\n        \"description\": \"\"\n      }\n    },\n    {\n      \"column\": \"Names\",\n      \"properties\": {\n        \"dtype\": \"string\",\n        \"num_unique_values\": 100,\n        \"samples\": [\n          \"ICICI Bank\",\n          \"Petronet LNG\",\n          \"HCL Technologies\"\n        ],\n        \"semantic_type\": \"\",\n        \"description\": \"\"\n      }\n    },\n    {\n      \"column\": \"Rank\",\n      \"properties\": {\n        \"dtype\": \"string\",\n        \"num_unique_values\": 100,\n        \"samples\": [\n          \"#177\",\n          \"#2647\",\n          \"#350\"\n        ],\n        \"semantic_type\": \"\",\n        \"description\": \"\"\n      }\n    },\n    {\n      \"column\": \"Marketcap\",\n      \"properties\": {\n        \"dtype\": \"string\",\n        \"num_unique_values\": 100,\n        \"samples\": [\n          \"$85.20 B\",\n          \"$4.69 B\",\n          \"$50.51 B\"\n        ],\n        \"semantic_type\": \"\",\n        \"description\": \"\"\n      }\n    },\n    {\n      \"column\": \"Share.Price\",\n      \"properties\": {\n        \"dtype\": \"string\",\n        \"num_unique_values\": 99,\n        \"samples\": [\n          \"$12.55\",\n          \"$2.95\",\n          \"$2.82\"\n        ],\n        \"semantic_type\": \"\",\n        \"description\": \"\"\n      }\n    },\n    {\n      \"column\": \"Categories\",\n      \"properties\": {\n        \"dtype\": \"category\",\n        \"num_unique_values\": 30,\n        \"samples\": [\n          \"\\ud83c\\udfd9 Conglomerate\",\n          \"\\ud83c\\udf74 Food\",\n          \"\\u2708\\ufe0f Airlines\"\n        ],\n        \"semantic_type\": \"\",\n        \"description\": \"\"\n      }\n    },\n    {\n      \"column\": \"Revenue\",\n      \"properties\": {\n        \"dtype\": \"string\",\n        \"num_unique_values\": 96,\n        \"samples\": [\n          \"$20.39 B\",\n          \"$17.73 B\",\n          \"$15.69 B\"\n        ],\n        \"semantic_type\": \"\",\n        \"description\": \"\"\n      }\n    },\n    {\n      \"column\": \"Country\",\n      \"properties\": {\n        \"dtype\": \"category\",\n        \"num_unique_values\": 1,\n        \"samples\": [\n          \"India\"\n        ],\n        \"semantic_type\": \"\",\n        \"description\": \"\"\n      }\n    }\n  ]\n}"
            }
          },
          "metadata": {},
          "execution_count": 38
        }
      ]
    },
    {
      "cell_type": "markdown",
      "source": [
        "##**Preparing the Data**"
      ],
      "metadata": {
        "id": "hIyIAhalUn4G"
      }
    },
    {
      "cell_type": "code",
      "source": [
        "print(\"Are there any missing values?\", data.isnull().values.any())"
      ],
      "metadata": {
        "colab": {
          "base_uri": "https://localhost:8080/"
        },
        "id": "_nn-4fMIW4iI",
        "outputId": "5388d590-81b8-4710-c969-fed8433c8778"
      },
      "execution_count": null,
      "outputs": [
        {
          "output_type": "stream",
          "name": "stdout",
          "text": [
            "Are there any missing values? True\n"
          ]
        }
      ]
    },
    {
      "cell_type": "code",
      "source": [
        "# Check for missing values in the dataset\n",
        "data.isnull().sum(axis = 0)"
      ],
      "metadata": {
        "colab": {
          "base_uri": "https://localhost:8080/"
        },
        "id": "-DM2TZvPV3w2",
        "outputId": "9e405f75-7835-4349-ff91-f7a94571debe"
      },
      "execution_count": null,
      "outputs": [
        {
          "output_type": "execute_result",
          "data": {
            "text/plain": [
              "SerialNumber    0\n",
              "Names           0\n",
              "Rank            0\n",
              "Marketcap       0\n",
              "Share.Price     0\n",
              "Categories      8\n",
              "Revenue         0\n",
              "Country         0\n",
              "dtype: int64"
            ]
          },
          "metadata": {},
          "execution_count": 40
        }
      ]
    },
    {
      "cell_type": "code",
      "source": [
        "# Drop rows with null values\n",
        "data.dropna(axis = 0, inplace = True)"
      ],
      "metadata": {
        "id": "BFm1fStFWZ3X"
      },
      "execution_count": null,
      "outputs": []
    },
    {
      "cell_type": "code",
      "source": [
        "data.isnull().sum()"
      ],
      "metadata": {
        "colab": {
          "base_uri": "https://localhost:8080/"
        },
        "id": "yOWY6pBIWfNx",
        "outputId": "6e0f168b-9960-4470-ea1f-0ed4a9ac00bf"
      },
      "execution_count": null,
      "outputs": [
        {
          "output_type": "execute_result",
          "data": {
            "text/plain": [
              "SerialNumber    0\n",
              "Names           0\n",
              "Rank            0\n",
              "Marketcap       0\n",
              "Share.Price     0\n",
              "Categories      0\n",
              "Revenue         0\n",
              "Country         0\n",
              "dtype: int64"
            ]
          },
          "metadata": {},
          "execution_count": 42
        }
      ]
    },
    {
      "cell_type": "markdown",
      "source": [
        "##**Are there any duplicate entries in the dataset?**"
      ],
      "metadata": {
        "id": "_NP_BtMkkKd6"
      }
    },
    {
      "cell_type": "code",
      "source": [
        "print(\"Are there any duplicates?\", data.duplicated().any())"
      ],
      "metadata": {
        "colab": {
          "base_uri": "https://localhost:8080/"
        },
        "id": "Veom28A3Wisp",
        "outputId": "b558371c-3664-4bee-baf9-62e383085e0a"
      },
      "execution_count": null,
      "outputs": [
        {
          "output_type": "stream",
          "name": "stdout",
          "text": [
            "Are there any duplicates? False\n"
          ]
        }
      ]
    },
    {
      "cell_type": "markdown",
      "source": [
        "##**What is the data type of each column? Are they appropriate for the data they contain?**"
      ],
      "metadata": {
        "id": "WQ7cbF8fkffj"
      }
    },
    {
      "cell_type": "code",
      "source": [
        "data.info()"
      ],
      "metadata": {
        "colab": {
          "base_uri": "https://localhost:8080/"
        },
        "id": "L5r8SZixknQI",
        "outputId": "6df19b15-de6e-454b-f50d-73c925754b62"
      },
      "execution_count": null,
      "outputs": [
        {
          "output_type": "stream",
          "name": "stdout",
          "text": [
            "<class 'pandas.core.frame.DataFrame'>\n",
            "Int64Index: 92 entries, 1 to 99\n",
            "Data columns (total 8 columns):\n",
            " #   Column        Non-Null Count  Dtype \n",
            "---  ------        --------------  ----- \n",
            " 0   SerialNumber  92 non-null     int64 \n",
            " 1   Names         92 non-null     object\n",
            " 2   Rank          92 non-null     object\n",
            " 3   Marketcap     92 non-null     object\n",
            " 4   Share.Price   92 non-null     object\n",
            " 5   Categories    92 non-null     object\n",
            " 6   Revenue       92 non-null     object\n",
            " 7   Country       92 non-null     object\n",
            "dtypes: int64(1), object(7)\n",
            "memory usage: 6.5+ KB\n"
          ]
        }
      ]
    },
    {
      "cell_type": "markdown",
      "source": [
        "###**Data Cleaning [ Rank Column ]**"
      ],
      "metadata": {
        "id": "liXjBpIeXf-1"
      }
    },
    {
      "cell_type": "code",
      "source": [
        "data[\"Rank\"]"
      ],
      "metadata": {
        "colab": {
          "base_uri": "https://localhost:8080/"
        },
        "id": "SFsKrz05pNRD",
        "outputId": "77ec8757-0412-4114-9d2d-16d4c347c4b4"
      },
      "execution_count": null,
      "outputs": [
        {
          "output_type": "execute_result",
          "data": {
            "text/plain": [
              "1     #1513\n",
              "2     #1914\n",
              "3     #2394\n",
              "5     #5410\n",
              "6     #1721\n",
              "      ...  \n",
              "95    #1327\n",
              "96     #525\n",
              "97     #778\n",
              "98     #237\n",
              "99      #48\n",
              "Name: Rank, Length: 92, dtype: object"
            ]
          },
          "metadata": {},
          "execution_count": 45
        }
      ]
    },
    {
      "cell_type": "code",
      "source": [
        "# Extract just the numeric part\n",
        "data[\"Rank\"] = data[\"Rank\"].str[1:]"
      ],
      "metadata": {
        "id": "EwP2piT4WtEv"
      },
      "execution_count": null,
      "outputs": []
    },
    {
      "cell_type": "code",
      "source": [
        "# Change the data type of 'Rank' from object to int64\n",
        "data[\"Rank\"] = data[\"Rank\"].astype(\"int64\")"
      ],
      "metadata": {
        "id": "zzFQeY1PXwb4"
      },
      "execution_count": null,
      "outputs": []
    },
    {
      "cell_type": "code",
      "source": [
        "data[\"Rank\"]"
      ],
      "metadata": {
        "colab": {
          "base_uri": "https://localhost:8080/"
        },
        "id": "Y_qqxuAQX67u",
        "outputId": "652611e7-5044-4257-fb2a-ee67e542398b"
      },
      "execution_count": null,
      "outputs": [
        {
          "output_type": "execute_result",
          "data": {
            "text/plain": [
              "1     1513\n",
              "2     1914\n",
              "3     2394\n",
              "5     5410\n",
              "6     1721\n",
              "      ... \n",
              "95    1327\n",
              "96     525\n",
              "97     778\n",
              "98     237\n",
              "99      48\n",
              "Name: Rank, Length: 92, dtype: int64"
            ]
          },
          "metadata": {},
          "execution_count": 48
        }
      ]
    },
    {
      "cell_type": "markdown",
      "source": [
        "###**Data Cleaning [ Marketcap Column ]**"
      ],
      "metadata": {
        "id": "5PCCUoKlYF4L"
      }
    },
    {
      "cell_type": "code",
      "source": [
        "data[\"Marketcap\"]"
      ],
      "metadata": {
        "colab": {
          "base_uri": "https://localhost:8080/"
        },
        "id": "QHNw9EXfYOHj",
        "outputId": "9705f45f-60c1-49b3-eb66-dd9e540662f4"
      },
      "execution_count": null,
      "outputs": [
        {
          "output_type": "execute_result",
          "data": {
            "text/plain": [
              "1      $10.42 B\n",
              "2       $7.65 B\n",
              "3       $5.59 B\n",
              "5       $0.71 B\n",
              "6       $8.78 B\n",
              "        ...    \n",
              "95     $12.34 B\n",
              "96     $35.43 B\n",
              "97     $23.81 B\n",
              "98     $68.75 B\n",
              "99    $220.32 B\n",
              "Name: Marketcap, Length: 92, dtype: object"
            ]
          },
          "metadata": {},
          "execution_count": 49
        }
      ]
    },
    {
      "cell_type": "code",
      "source": [
        "# Extract just the numeric part\n",
        "data[\"Marketcap\"] = data[\"Marketcap\"].str[1:-2]"
      ],
      "metadata": {
        "id": "SNeatWMVYWNf"
      },
      "execution_count": null,
      "outputs": []
    },
    {
      "cell_type": "code",
      "source": [
        "# Change the data type of 'Marketcap' from object to float\n",
        "data[\"Marketcap\"] = data[\"Marketcap\"].astype(float)"
      ],
      "metadata": {
        "id": "ajLPpuJdYy4a"
      },
      "execution_count": null,
      "outputs": []
    },
    {
      "cell_type": "code",
      "source": [
        "data[\"Marketcap\"]"
      ],
      "metadata": {
        "colab": {
          "base_uri": "https://localhost:8080/"
        },
        "id": "nKJEK9a2bA4X",
        "outputId": "e5c9f554-33dd-4339-c020-a07f223cd018"
      },
      "execution_count": null,
      "outputs": [
        {
          "output_type": "execute_result",
          "data": {
            "text/plain": [
              "1      10.42\n",
              "2       7.65\n",
              "3       5.59\n",
              "5       0.71\n",
              "6       8.78\n",
              "       ...  \n",
              "95     12.34\n",
              "96     35.43\n",
              "97     23.81\n",
              "98     68.75\n",
              "99    220.32\n",
              "Name: Marketcap, Length: 92, dtype: float64"
            ]
          },
          "metadata": {},
          "execution_count": 52
        }
      ]
    },
    {
      "cell_type": "markdown",
      "source": [
        "###**Data Cleaning of Share.Price Column**"
      ],
      "metadata": {
        "id": "bU6RLZlsYuMu"
      }
    },
    {
      "cell_type": "code",
      "source": [
        "data[\"Share.Price\"]"
      ],
      "metadata": {
        "colab": {
          "base_uri": "https://localhost:8080/"
        },
        "id": "DS34MdPJbd6Z",
        "outputId": "a7d9d98b-ffa8-4342-ae67-d74a255d2183"
      },
      "execution_count": null,
      "outputs": [
        {
          "output_type": "execute_result",
          "data": {
            "text/plain": [
              "1     $27.76\n",
              "2      $2.61\n",
              "3     $29.69\n",
              "5      $2.11\n",
              "6     $17.84\n",
              "       ...  \n",
              "95     $5.71\n",
              "96     $2.82\n",
              "97     $1.73\n",
              "98    $10.87\n",
              "99    $32.56\n",
              "Name: Share.Price, Length: 92, dtype: object"
            ]
          },
          "metadata": {},
          "execution_count": 53
        }
      ]
    },
    {
      "cell_type": "code",
      "source": [
        "# Extract just the numeric part\n",
        "data[\"Share.Price\"] = data[\"Share.Price\"].str[1:]"
      ],
      "metadata": {
        "id": "gtm2vGSYbglw"
      },
      "execution_count": null,
      "outputs": []
    },
    {
      "cell_type": "code",
      "source": [
        "# Replace commas in numbers\n",
        "data[\"Share.Price\"] = data[\"Share.Price\"].str.replace(\",\",\"\")"
      ],
      "metadata": {
        "id": "t9YZHSEZbx68"
      },
      "execution_count": null,
      "outputs": []
    },
    {
      "cell_type": "code",
      "source": [
        "# Change the data type of 'Share.Price' from object to float\n",
        "data[\"Share.Price\"] = data[\"Share.Price\"].astype(float)"
      ],
      "metadata": {
        "id": "gYcjKOtkbkh9"
      },
      "execution_count": null,
      "outputs": []
    },
    {
      "cell_type": "code",
      "source": [
        "data[\"Share.Price\"]"
      ],
      "metadata": {
        "colab": {
          "base_uri": "https://localhost:8080/"
        },
        "id": "VQL-12CefpOK",
        "outputId": "8e953a59-944c-4406-c8ea-e929a82543eb"
      },
      "execution_count": null,
      "outputs": [
        {
          "output_type": "execute_result",
          "data": {
            "text/plain": [
              "1     27.76\n",
              "2      2.61\n",
              "3     29.69\n",
              "5      2.11\n",
              "6     17.84\n",
              "      ...  \n",
              "95     5.71\n",
              "96     2.82\n",
              "97     1.73\n",
              "98    10.87\n",
              "99    32.56\n",
              "Name: Share.Price, Length: 92, dtype: float64"
            ]
          },
          "metadata": {},
          "execution_count": 57
        }
      ]
    },
    {
      "cell_type": "markdown",
      "source": [
        "###**Data Cleaning of Categories Column**"
      ],
      "metadata": {
        "id": "wzC2pOxkcCqx"
      }
    },
    {
      "cell_type": "code",
      "source": [
        "data[\"Categories\"]"
      ],
      "metadata": {
        "colab": {
          "base_uri": "https://localhost:8080/"
        },
        "id": "NgfmF11TcTUW",
        "outputId": "364e3e29-00ea-41b6-c387-7f6725727b91"
      },
      "execution_count": null,
      "outputs": [
        {
          "output_type": "execute_result",
          "data": {
            "text/plain": [
              "1     💳 Financial services\n",
              "2                ⛏️ Mining\n",
              "3                   Cement\n",
              "5              🧪 Chemicals\n",
              "6              🏦 Insurance\n",
              "              ...         \n",
              "95               🛢 Oil&Gas\n",
              "96               🛢 Oil&Gas\n",
              "97               🛢 Oil&Gas\n",
              "98             🏦 Insurance\n",
              "99          🏙 Conglomerate\n",
              "Name: Categories, Length: 92, dtype: object"
            ]
          },
          "metadata": {},
          "execution_count": 58
        }
      ]
    },
    {
      "cell_type": "code",
      "source": [
        "#Filter out non-string values using regular expressions#\n",
        "data[\"Categories\"] = data[\"Categories\"].str.extract(r'([^\\d\\W]+)')"
      ],
      "metadata": {
        "id": "m6NPAAPIcbcv"
      },
      "execution_count": null,
      "outputs": []
    },
    {
      "cell_type": "code",
      "source": [
        "data[\"Categories\"]"
      ],
      "metadata": {
        "colab": {
          "base_uri": "https://localhost:8080/"
        },
        "id": "PFq5TNIbdXku",
        "outputId": "2c26325a-0514-4201-baae-f227cd279a2f"
      },
      "execution_count": null,
      "outputs": [
        {
          "output_type": "execute_result",
          "data": {
            "text/plain": [
              "1        Financial\n",
              "2           Mining\n",
              "3           Cement\n",
              "5        Chemicals\n",
              "6        Insurance\n",
              "          ...     \n",
              "95             Oil\n",
              "96             Oil\n",
              "97             Oil\n",
              "98       Insurance\n",
              "99    Conglomerate\n",
              "Name: Categories, Length: 92, dtype: object"
            ]
          },
          "metadata": {},
          "execution_count": 60
        }
      ]
    },
    {
      "cell_type": "markdown",
      "source": [
        "###**Data Cleaning of Revenue Column**"
      ],
      "metadata": {
        "id": "q7Km0mIldkv6"
      }
    },
    {
      "cell_type": "code",
      "source": [
        "data[\"Revenue\"]"
      ],
      "metadata": {
        "colab": {
          "base_uri": "https://localhost:8080/"
        },
        "id": "94j-n1FAd334",
        "outputId": "e3b07578-2bae-48df-b8f7-1deca4d4cd9f"
      },
      "execution_count": null,
      "outputs": [
        {
          "output_type": "execute_result",
          "data": {
            "text/plain": [
              "1       $2.29 B\n",
              "2       $2.30 B\n",
              "3       $2.30 B\n",
              "5       $2.35 B\n",
              "6       $2.38 B\n",
              "        ...    \n",
              "95     $54.11 B\n",
              "96     $78.08 B\n",
              "97     $94.87 B\n",
              "98     $97.94 B\n",
              "99    $106.19 B\n",
              "Name: Revenue, Length: 92, dtype: object"
            ]
          },
          "metadata": {},
          "execution_count": 61
        }
      ]
    },
    {
      "cell_type": "code",
      "source": [
        "# Extract just the numeric part\n",
        "data[\"Revenue\"] = data[\"Revenue\"].str[1:-2]"
      ],
      "metadata": {
        "id": "Z7TfcrC-f1TK"
      },
      "execution_count": null,
      "outputs": []
    },
    {
      "cell_type": "code",
      "source": [
        "# Change the data type of 'Revenue' from object to float\n",
        "data[\"Revenue\"] = data[\"Revenue\"].astype(float)"
      ],
      "metadata": {
        "id": "lrmYQsMmgBSJ"
      },
      "execution_count": null,
      "outputs": []
    },
    {
      "cell_type": "code",
      "source": [
        "data[\"Revenue\"]"
      ],
      "metadata": {
        "colab": {
          "base_uri": "https://localhost:8080/"
        },
        "id": "yt5NrxkagFOu",
        "outputId": "4d2c3ba8-51b8-4f6d-bbba-57590fe21f31"
      },
      "execution_count": null,
      "outputs": [
        {
          "output_type": "execute_result",
          "data": {
            "text/plain": [
              "1       2.29\n",
              "2       2.30\n",
              "3       2.30\n",
              "5       2.35\n",
              "6       2.38\n",
              "       ...  \n",
              "95     54.11\n",
              "96     78.08\n",
              "97     94.87\n",
              "98     97.94\n",
              "99    106.19\n",
              "Name: Revenue, Length: 92, dtype: float64"
            ]
          },
          "metadata": {},
          "execution_count": 64
        }
      ]
    },
    {
      "cell_type": "markdown",
      "source": [
        "##**Are there any inconsistencies or errors in the data entries? For example, negative values for revenue**"
      ],
      "metadata": {
        "id": "nSYdeFxuhOpq"
      }
    },
    {
      "cell_type": "code",
      "source": [
        "# Check if any values in the 'revenue' column are negative\n",
        "has_negative_revenue = (data['Revenue'] < 0).any()\n",
        "\n",
        "# Print the result\n",
        "if has_negative_revenue:\n",
        "    print(\"The 'revenue' column contains negative values.\")\n",
        "else:\n",
        "    print(\"The 'revenue' column does not contain negative values.\")"
      ],
      "metadata": {
        "colab": {
          "base_uri": "https://localhost:8080/"
        },
        "id": "ywJ9OPpDhwvr",
        "outputId": "93699fa9-161f-4919-c3ae-28b354ca2306"
      },
      "execution_count": null,
      "outputs": [
        {
          "output_type": "stream",
          "name": "stdout",
          "text": [
            "The 'revenue' column does not contain negative values.\n"
          ]
        }
      ]
    },
    {
      "cell_type": "markdown",
      "source": [
        "##**Are all company names entered in a consistent format? If not, can they be standardized?**"
      ],
      "metadata": {
        "id": "sZhdKrt0iI8L"
      }
    },
    {
      "cell_type": "code",
      "source": [
        "# Step 1: Inspect unique values in the company name column\n",
        "unique_company_names = data['Names'].unique()\n",
        "print(\"Unique company names:\")\n",
        "print(unique_company_names)\n",
        "\n",
        "# Step 2: Determine a standard format (e.g., lowercase, title case)\n",
        "standardized_company_names = data['Names'].str.lower()  # Convert names to lowercase\n",
        "\n",
        "# Step 3: Apply the chosen standardization method to the company name column\n",
        "data['Names'] = standardized_company_names"
      ],
      "metadata": {
        "colab": {
          "base_uri": "https://localhost:8080/"
        },
        "id": "wEHiAHOLiHyU",
        "outputId": "af969af1-a69d-433c-d9f2-38f6a2a3bc07"
      },
      "execution_count": null,
      "outputs": [
        {
          "output_type": "stream",
          "name": "stdout",
          "text": [
            "Unique company names:\n",
            "['Shriram Transport Finance' 'National Mineral Development Corporation'\n",
            " 'ACC' 'Rain Industries' 'ICICI Lombard' 'Reliance Infrastructure'\n",
            " 'IDFC FIRST Bank' 'Chambal Fertilisers' 'Adani Ports & SEZ'\n",
            " 'Madras Rubber Factory' 'Apollo Tyres' 'Cipla' 'Indian Railway Finance'\n",
            " 'Torrent Power' \"Dr. Reddy's\" 'Aurobindo Pharma' 'National Fertilizers'\n",
            " 'Hindustan Aeronautics' 'Indus Towers' 'IndusInd Bank'\n",
            " 'Power Finance Corp' 'Oil India' 'Bank of India' 'Bajaj Finance'\n",
            " 'Aditya Birla Capital' 'Indian Bank' 'Patanjali Foods' 'Ambuja Cements'\n",
            " 'TVS Motor' 'Hero MotoCorp' 'LTIMindtree' 'Asian Paints'\n",
            " 'Max Financial Services' 'Adani Power' 'New India Assurance'\n",
            " 'Vodafone Idea' 'Powergrid Corporation of India' 'Titan Company'\n",
            " 'Ashok Leyland' 'Sun Pharmaceutical'\n",
            " 'General Insurance Corporation of India' 'Jindal Stainless' 'DMart' 'UPL'\n",
            " 'Punjab National Bank' 'Union Bank of India' 'Adani Wilmar' 'Tata Power'\n",
            " 'Petronet LNG' 'InterGlobe Aviation' 'Hindustan Unilever' 'Canara Bank'\n",
            " 'Kotak Mahindra Bank' 'Chennai Petroleum' 'UltraTech Cement' 'ITC'\n",
            " 'Bank of Baroda' 'Axis Bank' 'Jindal Steel & Power' 'ICICI Prulife'\n",
            " 'Samvardhana Motherson' 'HDFC Life' 'Wipro' 'Bajaj Finserv'\n",
            " 'HCL Technologies' 'Adani Enterprises' 'Steel Authority of India'\n",
            " 'SBI Life Insurance' 'Housing Development Finance Corporation'\n",
            " 'Maruti Suzuki India' 'Mahindra & Mahindra' 'Coal India' 'GAIL' 'Vedanta'\n",
            " 'Bharti Airtel' 'Infosys' 'ICICI Bank' 'HDFC Bank' 'JSW Steel'\n",
            " 'NTPC Limited' 'Larsen & Toubro' 'Tata Steel' 'Tata Consultancy Services'\n",
            " 'State Bank of India' 'Rajesh Exports' 'Tata Motors'\n",
            " 'Hindustan Petroleum' 'Bharat Petroleum' 'Oil & Natural Gas' 'Indian Oil'\n",
            " 'Life Insurance Corporation of India (LIC)' 'Reliance Industries']\n"
          ]
        }
      ]
    },
    {
      "cell_type": "code",
      "source": [
        "# Display the DataFrame with standardized company names\n",
        "print(\"\\nDataFrame with standardized company names:\")\n",
        "data.head()"
      ],
      "metadata": {
        "colab": {
          "base_uri": "https://localhost:8080/",
          "height": 241
        },
        "id": "lIjpw3uIjCct",
        "outputId": "2d08798c-5b45-408f-8b28-0107fa4b3a21"
      },
      "execution_count": null,
      "outputs": [
        {
          "output_type": "stream",
          "name": "stdout",
          "text": [
            "\n",
            "DataFrame with standardized company names:\n"
          ]
        },
        {
          "output_type": "execute_result",
          "data": {
            "text/plain": [
              "   SerialNumber                                     Names  Rank  Marketcap  \\\n",
              "1             2                 shriram transport finance  1513      10.42   \n",
              "2             3  national mineral development corporation  1914       7.65   \n",
              "3             4                                       acc  2394       5.59   \n",
              "5             6                           rain industries  5410       0.71   \n",
              "6             7                             icici lombard  1721       8.78   \n",
              "\n",
              "   Share.Price Categories  Revenue Country  \n",
              "1        27.76  Financial     2.29   India  \n",
              "2         2.61     Mining     2.30   India  \n",
              "3        29.69     Cement     2.30   India  \n",
              "5         2.11  Chemicals     2.35   India  \n",
              "6        17.84  Insurance     2.38   India  "
            ],
            "text/html": [
              "\n",
              "  <div id=\"df-7c80edcf-9e58-4398-a949-36734434354e\" class=\"colab-df-container\">\n",
              "    <div>\n",
              "<style scoped>\n",
              "    .dataframe tbody tr th:only-of-type {\n",
              "        vertical-align: middle;\n",
              "    }\n",
              "\n",
              "    .dataframe tbody tr th {\n",
              "        vertical-align: top;\n",
              "    }\n",
              "\n",
              "    .dataframe thead th {\n",
              "        text-align: right;\n",
              "    }\n",
              "</style>\n",
              "<table border=\"1\" class=\"dataframe\">\n",
              "  <thead>\n",
              "    <tr style=\"text-align: right;\">\n",
              "      <th></th>\n",
              "      <th>SerialNumber</th>\n",
              "      <th>Names</th>\n",
              "      <th>Rank</th>\n",
              "      <th>Marketcap</th>\n",
              "      <th>Share.Price</th>\n",
              "      <th>Categories</th>\n",
              "      <th>Revenue</th>\n",
              "      <th>Country</th>\n",
              "    </tr>\n",
              "  </thead>\n",
              "  <tbody>\n",
              "    <tr>\n",
              "      <th>1</th>\n",
              "      <td>2</td>\n",
              "      <td>shriram transport finance</td>\n",
              "      <td>1513</td>\n",
              "      <td>10.42</td>\n",
              "      <td>27.76</td>\n",
              "      <td>Financial</td>\n",
              "      <td>2.29</td>\n",
              "      <td>India</td>\n",
              "    </tr>\n",
              "    <tr>\n",
              "      <th>2</th>\n",
              "      <td>3</td>\n",
              "      <td>national mineral development corporation</td>\n",
              "      <td>1914</td>\n",
              "      <td>7.65</td>\n",
              "      <td>2.61</td>\n",
              "      <td>Mining</td>\n",
              "      <td>2.30</td>\n",
              "      <td>India</td>\n",
              "    </tr>\n",
              "    <tr>\n",
              "      <th>3</th>\n",
              "      <td>4</td>\n",
              "      <td>acc</td>\n",
              "      <td>2394</td>\n",
              "      <td>5.59</td>\n",
              "      <td>29.69</td>\n",
              "      <td>Cement</td>\n",
              "      <td>2.30</td>\n",
              "      <td>India</td>\n",
              "    </tr>\n",
              "    <tr>\n",
              "      <th>5</th>\n",
              "      <td>6</td>\n",
              "      <td>rain industries</td>\n",
              "      <td>5410</td>\n",
              "      <td>0.71</td>\n",
              "      <td>2.11</td>\n",
              "      <td>Chemicals</td>\n",
              "      <td>2.35</td>\n",
              "      <td>India</td>\n",
              "    </tr>\n",
              "    <tr>\n",
              "      <th>6</th>\n",
              "      <td>7</td>\n",
              "      <td>icici lombard</td>\n",
              "      <td>1721</td>\n",
              "      <td>8.78</td>\n",
              "      <td>17.84</td>\n",
              "      <td>Insurance</td>\n",
              "      <td>2.38</td>\n",
              "      <td>India</td>\n",
              "    </tr>\n",
              "  </tbody>\n",
              "</table>\n",
              "</div>\n",
              "    <div class=\"colab-df-buttons\">\n",
              "\n",
              "  <div class=\"colab-df-container\">\n",
              "    <button class=\"colab-df-convert\" onclick=\"convertToInteractive('df-7c80edcf-9e58-4398-a949-36734434354e')\"\n",
              "            title=\"Convert this dataframe to an interactive table.\"\n",
              "            style=\"display:none;\">\n",
              "\n",
              "  <svg xmlns=\"http://www.w3.org/2000/svg\" height=\"24px\" viewBox=\"0 -960 960 960\">\n",
              "    <path d=\"M120-120v-720h720v720H120Zm60-500h600v-160H180v160Zm220 220h160v-160H400v160Zm0 220h160v-160H400v160ZM180-400h160v-160H180v160Zm440 0h160v-160H620v160ZM180-180h160v-160H180v160Zm440 0h160v-160H620v160Z\"/>\n",
              "  </svg>\n",
              "    </button>\n",
              "\n",
              "  <style>\n",
              "    .colab-df-container {\n",
              "      display:flex;\n",
              "      gap: 12px;\n",
              "    }\n",
              "\n",
              "    .colab-df-convert {\n",
              "      background-color: #E8F0FE;\n",
              "      border: none;\n",
              "      border-radius: 50%;\n",
              "      cursor: pointer;\n",
              "      display: none;\n",
              "      fill: #1967D2;\n",
              "      height: 32px;\n",
              "      padding: 0 0 0 0;\n",
              "      width: 32px;\n",
              "    }\n",
              "\n",
              "    .colab-df-convert:hover {\n",
              "      background-color: #E2EBFA;\n",
              "      box-shadow: 0px 1px 2px rgba(60, 64, 67, 0.3), 0px 1px 3px 1px rgba(60, 64, 67, 0.15);\n",
              "      fill: #174EA6;\n",
              "    }\n",
              "\n",
              "    .colab-df-buttons div {\n",
              "      margin-bottom: 4px;\n",
              "    }\n",
              "\n",
              "    [theme=dark] .colab-df-convert {\n",
              "      background-color: #3B4455;\n",
              "      fill: #D2E3FC;\n",
              "    }\n",
              "\n",
              "    [theme=dark] .colab-df-convert:hover {\n",
              "      background-color: #434B5C;\n",
              "      box-shadow: 0px 1px 3px 1px rgba(0, 0, 0, 0.15);\n",
              "      filter: drop-shadow(0px 1px 2px rgba(0, 0, 0, 0.3));\n",
              "      fill: #FFFFFF;\n",
              "    }\n",
              "  </style>\n",
              "\n",
              "    <script>\n",
              "      const buttonEl =\n",
              "        document.querySelector('#df-7c80edcf-9e58-4398-a949-36734434354e button.colab-df-convert');\n",
              "      buttonEl.style.display =\n",
              "        google.colab.kernel.accessAllowed ? 'block' : 'none';\n",
              "\n",
              "      async function convertToInteractive(key) {\n",
              "        const element = document.querySelector('#df-7c80edcf-9e58-4398-a949-36734434354e');\n",
              "        const dataTable =\n",
              "          await google.colab.kernel.invokeFunction('convertToInteractive',\n",
              "                                                    [key], {});\n",
              "        if (!dataTable) return;\n",
              "\n",
              "        const docLinkHtml = 'Like what you see? Visit the ' +\n",
              "          '<a target=\"_blank\" href=https://colab.research.google.com/notebooks/data_table.ipynb>data table notebook</a>'\n",
              "          + ' to learn more about interactive tables.';\n",
              "        element.innerHTML = '';\n",
              "        dataTable['output_type'] = 'display_data';\n",
              "        await google.colab.output.renderOutput(dataTable, element);\n",
              "        const docLink = document.createElement('div');\n",
              "        docLink.innerHTML = docLinkHtml;\n",
              "        element.appendChild(docLink);\n",
              "      }\n",
              "    </script>\n",
              "  </div>\n",
              "\n",
              "\n",
              "<div id=\"df-6f9caee5-22f8-4e76-9d89-39d34ca4579d\">\n",
              "  <button class=\"colab-df-quickchart\" onclick=\"quickchart('df-6f9caee5-22f8-4e76-9d89-39d34ca4579d')\"\n",
              "            title=\"Suggest charts\"\n",
              "            style=\"display:none;\">\n",
              "\n",
              "<svg xmlns=\"http://www.w3.org/2000/svg\" height=\"24px\"viewBox=\"0 0 24 24\"\n",
              "     width=\"24px\">\n",
              "    <g>\n",
              "        <path d=\"M19 3H5c-1.1 0-2 .9-2 2v14c0 1.1.9 2 2 2h14c1.1 0 2-.9 2-2V5c0-1.1-.9-2-2-2zM9 17H7v-7h2v7zm4 0h-2V7h2v10zm4 0h-2v-4h2v4z\"/>\n",
              "    </g>\n",
              "</svg>\n",
              "  </button>\n",
              "\n",
              "<style>\n",
              "  .colab-df-quickchart {\n",
              "      --bg-color: #E8F0FE;\n",
              "      --fill-color: #1967D2;\n",
              "      --hover-bg-color: #E2EBFA;\n",
              "      --hover-fill-color: #174EA6;\n",
              "      --disabled-fill-color: #AAA;\n",
              "      --disabled-bg-color: #DDD;\n",
              "  }\n",
              "\n",
              "  [theme=dark] .colab-df-quickchart {\n",
              "      --bg-color: #3B4455;\n",
              "      --fill-color: #D2E3FC;\n",
              "      --hover-bg-color: #434B5C;\n",
              "      --hover-fill-color: #FFFFFF;\n",
              "      --disabled-bg-color: #3B4455;\n",
              "      --disabled-fill-color: #666;\n",
              "  }\n",
              "\n",
              "  .colab-df-quickchart {\n",
              "    background-color: var(--bg-color);\n",
              "    border: none;\n",
              "    border-radius: 50%;\n",
              "    cursor: pointer;\n",
              "    display: none;\n",
              "    fill: var(--fill-color);\n",
              "    height: 32px;\n",
              "    padding: 0;\n",
              "    width: 32px;\n",
              "  }\n",
              "\n",
              "  .colab-df-quickchart:hover {\n",
              "    background-color: var(--hover-bg-color);\n",
              "    box-shadow: 0 1px 2px rgba(60, 64, 67, 0.3), 0 1px 3px 1px rgba(60, 64, 67, 0.15);\n",
              "    fill: var(--button-hover-fill-color);\n",
              "  }\n",
              "\n",
              "  .colab-df-quickchart-complete:disabled,\n",
              "  .colab-df-quickchart-complete:disabled:hover {\n",
              "    background-color: var(--disabled-bg-color);\n",
              "    fill: var(--disabled-fill-color);\n",
              "    box-shadow: none;\n",
              "  }\n",
              "\n",
              "  .colab-df-spinner {\n",
              "    border: 2px solid var(--fill-color);\n",
              "    border-color: transparent;\n",
              "    border-bottom-color: var(--fill-color);\n",
              "    animation:\n",
              "      spin 1s steps(1) infinite;\n",
              "  }\n",
              "\n",
              "  @keyframes spin {\n",
              "    0% {\n",
              "      border-color: transparent;\n",
              "      border-bottom-color: var(--fill-color);\n",
              "      border-left-color: var(--fill-color);\n",
              "    }\n",
              "    20% {\n",
              "      border-color: transparent;\n",
              "      border-left-color: var(--fill-color);\n",
              "      border-top-color: var(--fill-color);\n",
              "    }\n",
              "    30% {\n",
              "      border-color: transparent;\n",
              "      border-left-color: var(--fill-color);\n",
              "      border-top-color: var(--fill-color);\n",
              "      border-right-color: var(--fill-color);\n",
              "    }\n",
              "    40% {\n",
              "      border-color: transparent;\n",
              "      border-right-color: var(--fill-color);\n",
              "      border-top-color: var(--fill-color);\n",
              "    }\n",
              "    60% {\n",
              "      border-color: transparent;\n",
              "      border-right-color: var(--fill-color);\n",
              "    }\n",
              "    80% {\n",
              "      border-color: transparent;\n",
              "      border-right-color: var(--fill-color);\n",
              "      border-bottom-color: var(--fill-color);\n",
              "    }\n",
              "    90% {\n",
              "      border-color: transparent;\n",
              "      border-bottom-color: var(--fill-color);\n",
              "    }\n",
              "  }\n",
              "</style>\n",
              "\n",
              "  <script>\n",
              "    async function quickchart(key) {\n",
              "      const quickchartButtonEl =\n",
              "        document.querySelector('#' + key + ' button');\n",
              "      quickchartButtonEl.disabled = true;  // To prevent multiple clicks.\n",
              "      quickchartButtonEl.classList.add('colab-df-spinner');\n",
              "      try {\n",
              "        const charts = await google.colab.kernel.invokeFunction(\n",
              "            'suggestCharts', [key], {});\n",
              "      } catch (error) {\n",
              "        console.error('Error during call to suggestCharts:', error);\n",
              "      }\n",
              "      quickchartButtonEl.classList.remove('colab-df-spinner');\n",
              "      quickchartButtonEl.classList.add('colab-df-quickchart-complete');\n",
              "    }\n",
              "    (() => {\n",
              "      let quickchartButtonEl =\n",
              "        document.querySelector('#df-6f9caee5-22f8-4e76-9d89-39d34ca4579d button');\n",
              "      quickchartButtonEl.style.display =\n",
              "        google.colab.kernel.accessAllowed ? 'block' : 'none';\n",
              "    })();\n",
              "  </script>\n",
              "</div>\n",
              "\n",
              "    </div>\n",
              "  </div>\n"
            ],
            "application/vnd.google.colaboratory.intrinsic+json": {
              "type": "dataframe",
              "variable_name": "data",
              "summary": "{\n  \"name\": \"data\",\n  \"rows\": 92,\n  \"fields\": [\n    {\n      \"column\": \"SerialNumber\",\n      \"properties\": {\n        \"dtype\": \"number\",\n        \"std\": 28,\n        \"min\": 2,\n        \"max\": 100,\n        \"num_unique_values\": 92,\n        \"samples\": [\n          45,\n          26,\n          61\n        ],\n        \"semantic_type\": \"\",\n        \"description\": \"\"\n      }\n    },\n    {\n      \"column\": \"Names\",\n      \"properties\": {\n        \"dtype\": \"string\",\n        \"num_unique_values\": 92,\n        \"samples\": [\n          \"general insurance corporation of india\",\n          \"bank of india\",\n          \"itc\"\n        ],\n        \"semantic_type\": \"\",\n        \"description\": \"\"\n      }\n    },\n    {\n      \"column\": \"Rank\",\n      \"properties\": {\n        \"dtype\": \"number\",\n        \"std\": 1197,\n        \"min\": 48,\n        \"max\": 5410,\n        \"num_unique_values\": 92,\n        \"samples\": [\n          1960,\n          2016,\n          241\n        ],\n        \"semantic_type\": \"\",\n        \"description\": \"\"\n      }\n    },\n    {\n      \"column\": \"Marketcap\",\n      \"properties\": {\n        \"dtype\": \"number\",\n        \"std\": 34.92250298537459,\n        \"min\": 0.71,\n        \"max\": 220.32,\n        \"num_unique_values\": 92,\n        \"samples\": [\n          7.44,\n          7.2,\n          68.42\n        ],\n        \"semantic_type\": \"\",\n        \"description\": \"\"\n      }\n    },\n    {\n      \"column\": \"Share.Price\",\n      \"properties\": {\n        \"dtype\": \"number\",\n        \"std\": 171.43184231278443,\n        \"min\": 0.18,\n        \"max\": 1647.0,\n        \"num_unique_values\": 91,\n        \"samples\": [\n          4.24,\n          1.58,\n          5.48\n        ],\n        \"semantic_type\": \"\",\n        \"description\": \"\"\n      }\n    },\n    {\n      \"column\": \"Categories\",\n      \"properties\": {\n        \"dtype\": \"category\",\n        \"num_unique_values\": 30,\n        \"samples\": [\n          \"Conglomerate\",\n          \"Food\",\n          \"Airlines\"\n        ],\n        \"semantic_type\": \"\",\n        \"description\": \"\"\n      }\n    },\n    {\n      \"column\": \"Revenue\",\n      \"properties\": {\n        \"dtype\": \"number\",\n        \"std\": 20.251440616944613,\n        \"min\": 2.29,\n        \"max\": 106.19,\n        \"num_unique_values\": 88,\n        \"samples\": [\n          24.48,\n          2.29,\n          4.18\n        ],\n        \"semantic_type\": \"\",\n        \"description\": \"\"\n      }\n    },\n    {\n      \"column\": \"Country\",\n      \"properties\": {\n        \"dtype\": \"category\",\n        \"num_unique_values\": 1,\n        \"samples\": [\n          \"India\"\n        ],\n        \"semantic_type\": \"\",\n        \"description\": \"\"\n      }\n    }\n  ]\n}"
            }
          },
          "metadata": {},
          "execution_count": 67
        }
      ]
    },
    {
      "cell_type": "markdown",
      "source": [
        "##**What are the top 10 companies in India based on revenue?**"
      ],
      "metadata": {
        "id": "rz5QynL98fus"
      }
    },
    {
      "cell_type": "code",
      "source": [
        "top_10 = data.nlargest(10,\"Revenue\")[[\"Names\",\"Revenue\"]]\n",
        "top_10"
      ],
      "metadata": {
        "colab": {
          "base_uri": "https://localhost:8080/",
          "height": 363
        },
        "id": "MeB60Ot-78H7",
        "outputId": "ada80721-8c7d-4ae9-cfee-662129fb35dd"
      },
      "execution_count": null,
      "outputs": [
        {
          "output_type": "execute_result",
          "data": {
            "text/plain": [
              "                                        Names  Revenue\n",
              "99                        reliance industries   106.19\n",
              "98  life insurance corporation of india (lic)    97.94\n",
              "97                                 indian oil    94.87\n",
              "96                          oil & natural gas    78.08\n",
              "95                           bharat petroleum    54.11\n",
              "94                        hindustan petroleum    51.52\n",
              "93                                tata motors    43.65\n",
              "92                             rajesh exports    39.91\n",
              "91                        state bank of india    36.81\n",
              "90                  tata consultancy services    28.90"
            ],
            "text/html": [
              "\n",
              "  <div id=\"df-06234fd7-4580-476b-a266-5dd7fb2faaa6\" class=\"colab-df-container\">\n",
              "    <div>\n",
              "<style scoped>\n",
              "    .dataframe tbody tr th:only-of-type {\n",
              "        vertical-align: middle;\n",
              "    }\n",
              "\n",
              "    .dataframe tbody tr th {\n",
              "        vertical-align: top;\n",
              "    }\n",
              "\n",
              "    .dataframe thead th {\n",
              "        text-align: right;\n",
              "    }\n",
              "</style>\n",
              "<table border=\"1\" class=\"dataframe\">\n",
              "  <thead>\n",
              "    <tr style=\"text-align: right;\">\n",
              "      <th></th>\n",
              "      <th>Names</th>\n",
              "      <th>Revenue</th>\n",
              "    </tr>\n",
              "  </thead>\n",
              "  <tbody>\n",
              "    <tr>\n",
              "      <th>99</th>\n",
              "      <td>reliance industries</td>\n",
              "      <td>106.19</td>\n",
              "    </tr>\n",
              "    <tr>\n",
              "      <th>98</th>\n",
              "      <td>life insurance corporation of india (lic)</td>\n",
              "      <td>97.94</td>\n",
              "    </tr>\n",
              "    <tr>\n",
              "      <th>97</th>\n",
              "      <td>indian oil</td>\n",
              "      <td>94.87</td>\n",
              "    </tr>\n",
              "    <tr>\n",
              "      <th>96</th>\n",
              "      <td>oil &amp; natural gas</td>\n",
              "      <td>78.08</td>\n",
              "    </tr>\n",
              "    <tr>\n",
              "      <th>95</th>\n",
              "      <td>bharat petroleum</td>\n",
              "      <td>54.11</td>\n",
              "    </tr>\n",
              "    <tr>\n",
              "      <th>94</th>\n",
              "      <td>hindustan petroleum</td>\n",
              "      <td>51.52</td>\n",
              "    </tr>\n",
              "    <tr>\n",
              "      <th>93</th>\n",
              "      <td>tata motors</td>\n",
              "      <td>43.65</td>\n",
              "    </tr>\n",
              "    <tr>\n",
              "      <th>92</th>\n",
              "      <td>rajesh exports</td>\n",
              "      <td>39.91</td>\n",
              "    </tr>\n",
              "    <tr>\n",
              "      <th>91</th>\n",
              "      <td>state bank of india</td>\n",
              "      <td>36.81</td>\n",
              "    </tr>\n",
              "    <tr>\n",
              "      <th>90</th>\n",
              "      <td>tata consultancy services</td>\n",
              "      <td>28.90</td>\n",
              "    </tr>\n",
              "  </tbody>\n",
              "</table>\n",
              "</div>\n",
              "    <div class=\"colab-df-buttons\">\n",
              "\n",
              "  <div class=\"colab-df-container\">\n",
              "    <button class=\"colab-df-convert\" onclick=\"convertToInteractive('df-06234fd7-4580-476b-a266-5dd7fb2faaa6')\"\n",
              "            title=\"Convert this dataframe to an interactive table.\"\n",
              "            style=\"display:none;\">\n",
              "\n",
              "  <svg xmlns=\"http://www.w3.org/2000/svg\" height=\"24px\" viewBox=\"0 -960 960 960\">\n",
              "    <path d=\"M120-120v-720h720v720H120Zm60-500h600v-160H180v160Zm220 220h160v-160H400v160Zm0 220h160v-160H400v160ZM180-400h160v-160H180v160Zm440 0h160v-160H620v160ZM180-180h160v-160H180v160Zm440 0h160v-160H620v160Z\"/>\n",
              "  </svg>\n",
              "    </button>\n",
              "\n",
              "  <style>\n",
              "    .colab-df-container {\n",
              "      display:flex;\n",
              "      gap: 12px;\n",
              "    }\n",
              "\n",
              "    .colab-df-convert {\n",
              "      background-color: #E8F0FE;\n",
              "      border: none;\n",
              "      border-radius: 50%;\n",
              "      cursor: pointer;\n",
              "      display: none;\n",
              "      fill: #1967D2;\n",
              "      height: 32px;\n",
              "      padding: 0 0 0 0;\n",
              "      width: 32px;\n",
              "    }\n",
              "\n",
              "    .colab-df-convert:hover {\n",
              "      background-color: #E2EBFA;\n",
              "      box-shadow: 0px 1px 2px rgba(60, 64, 67, 0.3), 0px 1px 3px 1px rgba(60, 64, 67, 0.15);\n",
              "      fill: #174EA6;\n",
              "    }\n",
              "\n",
              "    .colab-df-buttons div {\n",
              "      margin-bottom: 4px;\n",
              "    }\n",
              "\n",
              "    [theme=dark] .colab-df-convert {\n",
              "      background-color: #3B4455;\n",
              "      fill: #D2E3FC;\n",
              "    }\n",
              "\n",
              "    [theme=dark] .colab-df-convert:hover {\n",
              "      background-color: #434B5C;\n",
              "      box-shadow: 0px 1px 3px 1px rgba(0, 0, 0, 0.15);\n",
              "      filter: drop-shadow(0px 1px 2px rgba(0, 0, 0, 0.3));\n",
              "      fill: #FFFFFF;\n",
              "    }\n",
              "  </style>\n",
              "\n",
              "    <script>\n",
              "      const buttonEl =\n",
              "        document.querySelector('#df-06234fd7-4580-476b-a266-5dd7fb2faaa6 button.colab-df-convert');\n",
              "      buttonEl.style.display =\n",
              "        google.colab.kernel.accessAllowed ? 'block' : 'none';\n",
              "\n",
              "      async function convertToInteractive(key) {\n",
              "        const element = document.querySelector('#df-06234fd7-4580-476b-a266-5dd7fb2faaa6');\n",
              "        const dataTable =\n",
              "          await google.colab.kernel.invokeFunction('convertToInteractive',\n",
              "                                                    [key], {});\n",
              "        if (!dataTable) return;\n",
              "\n",
              "        const docLinkHtml = 'Like what you see? Visit the ' +\n",
              "          '<a target=\"_blank\" href=https://colab.research.google.com/notebooks/data_table.ipynb>data table notebook</a>'\n",
              "          + ' to learn more about interactive tables.';\n",
              "        element.innerHTML = '';\n",
              "        dataTable['output_type'] = 'display_data';\n",
              "        await google.colab.output.renderOutput(dataTable, element);\n",
              "        const docLink = document.createElement('div');\n",
              "        docLink.innerHTML = docLinkHtml;\n",
              "        element.appendChild(docLink);\n",
              "      }\n",
              "    </script>\n",
              "  </div>\n",
              "\n",
              "\n",
              "<div id=\"df-2eecce8a-4f88-47d3-b52a-7ac4410e82d8\">\n",
              "  <button class=\"colab-df-quickchart\" onclick=\"quickchart('df-2eecce8a-4f88-47d3-b52a-7ac4410e82d8')\"\n",
              "            title=\"Suggest charts\"\n",
              "            style=\"display:none;\">\n",
              "\n",
              "<svg xmlns=\"http://www.w3.org/2000/svg\" height=\"24px\"viewBox=\"0 0 24 24\"\n",
              "     width=\"24px\">\n",
              "    <g>\n",
              "        <path d=\"M19 3H5c-1.1 0-2 .9-2 2v14c0 1.1.9 2 2 2h14c1.1 0 2-.9 2-2V5c0-1.1-.9-2-2-2zM9 17H7v-7h2v7zm4 0h-2V7h2v10zm4 0h-2v-4h2v4z\"/>\n",
              "    </g>\n",
              "</svg>\n",
              "  </button>\n",
              "\n",
              "<style>\n",
              "  .colab-df-quickchart {\n",
              "      --bg-color: #E8F0FE;\n",
              "      --fill-color: #1967D2;\n",
              "      --hover-bg-color: #E2EBFA;\n",
              "      --hover-fill-color: #174EA6;\n",
              "      --disabled-fill-color: #AAA;\n",
              "      --disabled-bg-color: #DDD;\n",
              "  }\n",
              "\n",
              "  [theme=dark] .colab-df-quickchart {\n",
              "      --bg-color: #3B4455;\n",
              "      --fill-color: #D2E3FC;\n",
              "      --hover-bg-color: #434B5C;\n",
              "      --hover-fill-color: #FFFFFF;\n",
              "      --disabled-bg-color: #3B4455;\n",
              "      --disabled-fill-color: #666;\n",
              "  }\n",
              "\n",
              "  .colab-df-quickchart {\n",
              "    background-color: var(--bg-color);\n",
              "    border: none;\n",
              "    border-radius: 50%;\n",
              "    cursor: pointer;\n",
              "    display: none;\n",
              "    fill: var(--fill-color);\n",
              "    height: 32px;\n",
              "    padding: 0;\n",
              "    width: 32px;\n",
              "  }\n",
              "\n",
              "  .colab-df-quickchart:hover {\n",
              "    background-color: var(--hover-bg-color);\n",
              "    box-shadow: 0 1px 2px rgba(60, 64, 67, 0.3), 0 1px 3px 1px rgba(60, 64, 67, 0.15);\n",
              "    fill: var(--button-hover-fill-color);\n",
              "  }\n",
              "\n",
              "  .colab-df-quickchart-complete:disabled,\n",
              "  .colab-df-quickchart-complete:disabled:hover {\n",
              "    background-color: var(--disabled-bg-color);\n",
              "    fill: var(--disabled-fill-color);\n",
              "    box-shadow: none;\n",
              "  }\n",
              "\n",
              "  .colab-df-spinner {\n",
              "    border: 2px solid var(--fill-color);\n",
              "    border-color: transparent;\n",
              "    border-bottom-color: var(--fill-color);\n",
              "    animation:\n",
              "      spin 1s steps(1) infinite;\n",
              "  }\n",
              "\n",
              "  @keyframes spin {\n",
              "    0% {\n",
              "      border-color: transparent;\n",
              "      border-bottom-color: var(--fill-color);\n",
              "      border-left-color: var(--fill-color);\n",
              "    }\n",
              "    20% {\n",
              "      border-color: transparent;\n",
              "      border-left-color: var(--fill-color);\n",
              "      border-top-color: var(--fill-color);\n",
              "    }\n",
              "    30% {\n",
              "      border-color: transparent;\n",
              "      border-left-color: var(--fill-color);\n",
              "      border-top-color: var(--fill-color);\n",
              "      border-right-color: var(--fill-color);\n",
              "    }\n",
              "    40% {\n",
              "      border-color: transparent;\n",
              "      border-right-color: var(--fill-color);\n",
              "      border-top-color: var(--fill-color);\n",
              "    }\n",
              "    60% {\n",
              "      border-color: transparent;\n",
              "      border-right-color: var(--fill-color);\n",
              "    }\n",
              "    80% {\n",
              "      border-color: transparent;\n",
              "      border-right-color: var(--fill-color);\n",
              "      border-bottom-color: var(--fill-color);\n",
              "    }\n",
              "    90% {\n",
              "      border-color: transparent;\n",
              "      border-bottom-color: var(--fill-color);\n",
              "    }\n",
              "  }\n",
              "</style>\n",
              "\n",
              "  <script>\n",
              "    async function quickchart(key) {\n",
              "      const quickchartButtonEl =\n",
              "        document.querySelector('#' + key + ' button');\n",
              "      quickchartButtonEl.disabled = true;  // To prevent multiple clicks.\n",
              "      quickchartButtonEl.classList.add('colab-df-spinner');\n",
              "      try {\n",
              "        const charts = await google.colab.kernel.invokeFunction(\n",
              "            'suggestCharts', [key], {});\n",
              "      } catch (error) {\n",
              "        console.error('Error during call to suggestCharts:', error);\n",
              "      }\n",
              "      quickchartButtonEl.classList.remove('colab-df-spinner');\n",
              "      quickchartButtonEl.classList.add('colab-df-quickchart-complete');\n",
              "    }\n",
              "    (() => {\n",
              "      let quickchartButtonEl =\n",
              "        document.querySelector('#df-2eecce8a-4f88-47d3-b52a-7ac4410e82d8 button');\n",
              "      quickchartButtonEl.style.display =\n",
              "        google.colab.kernel.accessAllowed ? 'block' : 'none';\n",
              "    })();\n",
              "  </script>\n",
              "</div>\n",
              "\n",
              "  <div id=\"id_c5e4bcc4-b51a-4693-a995-df3cf0ef3707\">\n",
              "    <style>\n",
              "      .colab-df-generate {\n",
              "        background-color: #E8F0FE;\n",
              "        border: none;\n",
              "        border-radius: 50%;\n",
              "        cursor: pointer;\n",
              "        display: none;\n",
              "        fill: #1967D2;\n",
              "        height: 32px;\n",
              "        padding: 0 0 0 0;\n",
              "        width: 32px;\n",
              "      }\n",
              "\n",
              "      .colab-df-generate:hover {\n",
              "        background-color: #E2EBFA;\n",
              "        box-shadow: 0px 1px 2px rgba(60, 64, 67, 0.3), 0px 1px 3px 1px rgba(60, 64, 67, 0.15);\n",
              "        fill: #174EA6;\n",
              "      }\n",
              "\n",
              "      [theme=dark] .colab-df-generate {\n",
              "        background-color: #3B4455;\n",
              "        fill: #D2E3FC;\n",
              "      }\n",
              "\n",
              "      [theme=dark] .colab-df-generate:hover {\n",
              "        background-color: #434B5C;\n",
              "        box-shadow: 0px 1px 3px 1px rgba(0, 0, 0, 0.15);\n",
              "        filter: drop-shadow(0px 1px 2px rgba(0, 0, 0, 0.3));\n",
              "        fill: #FFFFFF;\n",
              "      }\n",
              "    </style>\n",
              "    <button class=\"colab-df-generate\" onclick=\"generateWithVariable('top_10')\"\n",
              "            title=\"Generate code using this dataframe.\"\n",
              "            style=\"display:none;\">\n",
              "\n",
              "  <svg xmlns=\"http://www.w3.org/2000/svg\" height=\"24px\"viewBox=\"0 0 24 24\"\n",
              "       width=\"24px\">\n",
              "    <path d=\"M7,19H8.4L18.45,9,17,7.55,7,17.6ZM5,21V16.75L18.45,3.32a2,2,0,0,1,2.83,0l1.4,1.43a1.91,1.91,0,0,1,.58,1.4,1.91,1.91,0,0,1-.58,1.4L9.25,21ZM18.45,9,17,7.55Zm-12,3A5.31,5.31,0,0,0,4.9,8.1,5.31,5.31,0,0,0,1,6.5,5.31,5.31,0,0,0,4.9,4.9,5.31,5.31,0,0,0,6.5,1,5.31,5.31,0,0,0,8.1,4.9,5.31,5.31,0,0,0,12,6.5,5.46,5.46,0,0,0,6.5,12Z\"/>\n",
              "  </svg>\n",
              "    </button>\n",
              "    <script>\n",
              "      (() => {\n",
              "      const buttonEl =\n",
              "        document.querySelector('#id_c5e4bcc4-b51a-4693-a995-df3cf0ef3707 button.colab-df-generate');\n",
              "      buttonEl.style.display =\n",
              "        google.colab.kernel.accessAllowed ? 'block' : 'none';\n",
              "\n",
              "      buttonEl.onclick = () => {\n",
              "        google.colab.notebook.generateWithVariable('top_10');\n",
              "      }\n",
              "      })();\n",
              "    </script>\n",
              "  </div>\n",
              "\n",
              "    </div>\n",
              "  </div>\n"
            ],
            "application/vnd.google.colaboratory.intrinsic+json": {
              "type": "dataframe",
              "variable_name": "top_10",
              "summary": "{\n  \"name\": \"top_10\",\n  \"rows\": 10,\n  \"fields\": [\n    {\n      \"column\": \"Names\",\n      \"properties\": {\n        \"dtype\": \"string\",\n        \"num_unique_values\": 10,\n        \"samples\": [\n          \"state bank of india\",\n          \"life insurance corporation of india (lic)\",\n          \"hindustan petroleum\"\n        ],\n        \"semantic_type\": \"\",\n        \"description\": \"\"\n      }\n    },\n    {\n      \"column\": \"Revenue\",\n      \"properties\": {\n        \"dtype\": \"number\",\n        \"std\": 28.472228496476273,\n        \"min\": 28.9,\n        \"max\": 106.19,\n        \"num_unique_values\": 10,\n        \"samples\": [\n          36.81,\n          97.94,\n          51.52\n        ],\n        \"semantic_type\": \"\",\n        \"description\": \"\"\n      }\n    }\n  ]\n}"
            }
          },
          "metadata": {},
          "execution_count": 233
        }
      ]
    },
    {
      "cell_type": "markdown",
      "source": [
        "##**What is the total revenue generated by all companies in the dataset?**"
      ],
      "metadata": {
        "id": "_ZI5WqYB_Z8u"
      }
    },
    {
      "cell_type": "code",
      "source": [
        "print(\"The total revenue generated by all companies in the dataset is $\",data[\"Revenue\"].sum(),\"B\")"
      ],
      "metadata": {
        "colab": {
          "base_uri": "https://localhost:8080/"
        },
        "id": "O2pTkxCe_bxA",
        "outputId": "3023241c-a710-471e-873f-7fd18aaa3002"
      },
      "execution_count": null,
      "outputs": [
        {
          "output_type": "stream",
          "name": "stdout",
          "text": [
            "The total revenue generated by all companies in the dataset is $ 1287.5 B\n"
          ]
        }
      ]
    },
    {
      "cell_type": "markdown",
      "source": [
        "##**What are the different Categories in the Dataset**"
      ],
      "metadata": {
        "id": "idXK7pwRAM30"
      }
    },
    {
      "cell_type": "code",
      "source": [
        "data[\"Categories\"].unique()"
      ],
      "metadata": {
        "colab": {
          "base_uri": "https://localhost:8080/"
        },
        "id": "cVyCn5s7AUAM",
        "outputId": "0e1a1f16-aed1-45e7-9ede-47fecf0d1802"
      },
      "execution_count": null,
      "outputs": [
        {
          "output_type": "execute_result",
          "data": {
            "text/plain": [
              "array(['Financial', 'Mining', 'Cement', 'Chemicals', 'Insurance',\n",
              "       'Electricity', 'Banks', 'Ports', 'Tires', 'Pharmaceuticals',\n",
              "       'Railways', 'Fertilizer', 'Aircraft', 'Telecommunication', 'Oil',\n",
              "       'Food', 'Motorcycle', 'Professional', 'Paint', 'Luxury',\n",
              "       'Manufacturing', 'Transportation', 'Retail', 'Airlines', 'Tobacco',\n",
              "       'Steel', 'Automotive', 'Conglomerate', 'Automakers',\n",
              "       'Construction'], dtype=object)"
            ]
          },
          "metadata": {},
          "execution_count": 245
        }
      ]
    },
    {
      "cell_type": "markdown",
      "source": [
        "##**What is the average revenue of different categories ?**"
      ],
      "metadata": {
        "id": "z-KutAbS7ptw"
      }
    },
    {
      "cell_type": "code",
      "source": [
        "data.groupby(\"Categories\")[\"Revenue\"].mean().sort_values(ascending = False)"
      ],
      "metadata": {
        "colab": {
          "base_uri": "https://localhost:8080/"
        },
        "id": "AC89KcFR7fje",
        "outputId": "95ac7d91-b302-48cc-a33b-6978b67a62f5"
      },
      "execution_count": null,
      "outputs": [
        {
          "output_type": "execute_result",
          "data": {
            "text/plain": [
              "Categories\n",
              "Conglomerate         59.505000\n",
              "Oil                  39.296250\n",
              "Automakers           24.883333\n",
              "Construction         24.480000\n",
              "Retail               22.890000\n",
              "Steel                17.797500\n",
              "Insurance            17.102222\n",
              "Professional         15.120000\n",
              "Mining               11.856667\n",
              "Banks                10.664286\n",
              "Automotive           10.640000\n",
              "Telecommunication     8.756667\n",
              "Tobacco               8.440000\n",
              "Electricity           7.406667\n",
              "Airlines              7.360000\n",
              "Food                  5.936667\n",
              "Transportation        5.720000\n",
              "Manufacturing         5.390000\n",
              "Luxury                5.390000\n",
              "Financial             5.210000\n",
              "Cement                4.803333\n",
              "Paint                 4.290000\n",
              "Motorcycle            4.055000\n",
              "Pharmaceuticals       3.750000\n",
              "Chemicals             3.683333\n",
              "Aircraft              3.360000\n",
              "Fertilizer            3.280000\n",
              "Railways              3.130000\n",
              "Tires                 2.945000\n",
              "Ports                 2.810000\n",
              "Name: Revenue, dtype: float64"
            ]
          },
          "metadata": {},
          "execution_count": 250
        }
      ]
    },
    {
      "cell_type": "markdown",
      "source": [
        "##**Which are top 5 categories?**"
      ],
      "metadata": {
        "id": "JEwxLUos9iKl"
      }
    },
    {
      "cell_type": "code",
      "source": [
        "data[\"Categories\"].value_counts().head()"
      ],
      "metadata": {
        "colab": {
          "base_uri": "https://localhost:8080/"
        },
        "id": "Zf3dLxUu9VhT",
        "outputId": "78ccf171-8ed6-4691-a83b-d404b5e94e5c"
      },
      "execution_count": null,
      "outputs": [
        {
          "output_type": "execute_result",
          "data": {
            "text/plain": [
              "Banks           14\n",
              "Insurance        9\n",
              "Oil              8\n",
              "Electricity      6\n",
              "Professional     5\n",
              "Name: Categories, dtype: int64"
            ]
          },
          "metadata": {},
          "execution_count": 235
        }
      ]
    },
    {
      "cell_type": "markdown",
      "source": [
        "##**Which industry sector (e.g., technology, oil & gas, finance) has the highest total revenue?**"
      ],
      "metadata": {
        "id": "l3XQMr9YAksl"
      }
    },
    {
      "cell_type": "code",
      "source": [
        "data.groupby(\"Categories\")[\"Revenue\"].sum().sort_values(ascending =False).head()"
      ],
      "metadata": {
        "colab": {
          "base_uri": "https://localhost:8080/"
        },
        "id": "moxVYcHzAohW",
        "outputId": "a6df5ccc-cceb-4820-e0ef-bc752cf63c73"
      },
      "execution_count": null,
      "outputs": [
        {
          "output_type": "execute_result",
          "data": {
            "text/plain": [
              "Categories\n",
              "Oil             314.37\n",
              "Insurance       153.92\n",
              "Banks           149.30\n",
              "Conglomerate    119.01\n",
              "Professional     75.60\n",
              "Name: Revenue, dtype: float64"
            ]
          },
          "metadata": {},
          "execution_count": 249
        }
      ]
    },
    {
      "cell_type": "markdown",
      "source": [
        "##**Top 5 Companies as per the Rank**"
      ],
      "metadata": {
        "id": "fP0Aid5v-kno"
      }
    },
    {
      "cell_type": "code",
      "source": [
        "data.sort_values(\"Rank\", ascending = False)[[\"Rank\",\"Names\",\"Categories\"]].head()"
      ],
      "metadata": {
        "colab": {
          "base_uri": "https://localhost:8080/",
          "height": 206
        },
        "id": "FP_WOSqk9yBq",
        "outputId": "f7eb623e-bd9b-4c70-d14e-22599f2723a4"
      },
      "execution_count": null,
      "outputs": [
        {
          "output_type": "execute_result",
          "data": {
            "text/plain": [
              "    Rank                    Names   Categories\n",
              "5   5410          rain industries    Chemicals\n",
              "18  5361     national fertilizers   Fertilizer\n",
              "7   4963  reliance infrastructure  Electricity\n",
              "92  4702           rajesh exports       Retail\n",
              "58  4527        chennai petroleum          Oil"
            ],
            "text/html": [
              "\n",
              "  <div id=\"df-e2a9805b-3b3f-4fd3-b714-a1cac0584ed4\" class=\"colab-df-container\">\n",
              "    <div>\n",
              "<style scoped>\n",
              "    .dataframe tbody tr th:only-of-type {\n",
              "        vertical-align: middle;\n",
              "    }\n",
              "\n",
              "    .dataframe tbody tr th {\n",
              "        vertical-align: top;\n",
              "    }\n",
              "\n",
              "    .dataframe thead th {\n",
              "        text-align: right;\n",
              "    }\n",
              "</style>\n",
              "<table border=\"1\" class=\"dataframe\">\n",
              "  <thead>\n",
              "    <tr style=\"text-align: right;\">\n",
              "      <th></th>\n",
              "      <th>Rank</th>\n",
              "      <th>Names</th>\n",
              "      <th>Categories</th>\n",
              "    </tr>\n",
              "  </thead>\n",
              "  <tbody>\n",
              "    <tr>\n",
              "      <th>5</th>\n",
              "      <td>5410</td>\n",
              "      <td>rain industries</td>\n",
              "      <td>Chemicals</td>\n",
              "    </tr>\n",
              "    <tr>\n",
              "      <th>18</th>\n",
              "      <td>5361</td>\n",
              "      <td>national fertilizers</td>\n",
              "      <td>Fertilizer</td>\n",
              "    </tr>\n",
              "    <tr>\n",
              "      <th>7</th>\n",
              "      <td>4963</td>\n",
              "      <td>reliance infrastructure</td>\n",
              "      <td>Electricity</td>\n",
              "    </tr>\n",
              "    <tr>\n",
              "      <th>92</th>\n",
              "      <td>4702</td>\n",
              "      <td>rajesh exports</td>\n",
              "      <td>Retail</td>\n",
              "    </tr>\n",
              "    <tr>\n",
              "      <th>58</th>\n",
              "      <td>4527</td>\n",
              "      <td>chennai petroleum</td>\n",
              "      <td>Oil</td>\n",
              "    </tr>\n",
              "  </tbody>\n",
              "</table>\n",
              "</div>\n",
              "    <div class=\"colab-df-buttons\">\n",
              "\n",
              "  <div class=\"colab-df-container\">\n",
              "    <button class=\"colab-df-convert\" onclick=\"convertToInteractive('df-e2a9805b-3b3f-4fd3-b714-a1cac0584ed4')\"\n",
              "            title=\"Convert this dataframe to an interactive table.\"\n",
              "            style=\"display:none;\">\n",
              "\n",
              "  <svg xmlns=\"http://www.w3.org/2000/svg\" height=\"24px\" viewBox=\"0 -960 960 960\">\n",
              "    <path d=\"M120-120v-720h720v720H120Zm60-500h600v-160H180v160Zm220 220h160v-160H400v160Zm0 220h160v-160H400v160ZM180-400h160v-160H180v160Zm440 0h160v-160H620v160ZM180-180h160v-160H180v160Zm440 0h160v-160H620v160Z\"/>\n",
              "  </svg>\n",
              "    </button>\n",
              "\n",
              "  <style>\n",
              "    .colab-df-container {\n",
              "      display:flex;\n",
              "      gap: 12px;\n",
              "    }\n",
              "\n",
              "    .colab-df-convert {\n",
              "      background-color: #E8F0FE;\n",
              "      border: none;\n",
              "      border-radius: 50%;\n",
              "      cursor: pointer;\n",
              "      display: none;\n",
              "      fill: #1967D2;\n",
              "      height: 32px;\n",
              "      padding: 0 0 0 0;\n",
              "      width: 32px;\n",
              "    }\n",
              "\n",
              "    .colab-df-convert:hover {\n",
              "      background-color: #E2EBFA;\n",
              "      box-shadow: 0px 1px 2px rgba(60, 64, 67, 0.3), 0px 1px 3px 1px rgba(60, 64, 67, 0.15);\n",
              "      fill: #174EA6;\n",
              "    }\n",
              "\n",
              "    .colab-df-buttons div {\n",
              "      margin-bottom: 4px;\n",
              "    }\n",
              "\n",
              "    [theme=dark] .colab-df-convert {\n",
              "      background-color: #3B4455;\n",
              "      fill: #D2E3FC;\n",
              "    }\n",
              "\n",
              "    [theme=dark] .colab-df-convert:hover {\n",
              "      background-color: #434B5C;\n",
              "      box-shadow: 0px 1px 3px 1px rgba(0, 0, 0, 0.15);\n",
              "      filter: drop-shadow(0px 1px 2px rgba(0, 0, 0, 0.3));\n",
              "      fill: #FFFFFF;\n",
              "    }\n",
              "  </style>\n",
              "\n",
              "    <script>\n",
              "      const buttonEl =\n",
              "        document.querySelector('#df-e2a9805b-3b3f-4fd3-b714-a1cac0584ed4 button.colab-df-convert');\n",
              "      buttonEl.style.display =\n",
              "        google.colab.kernel.accessAllowed ? 'block' : 'none';\n",
              "\n",
              "      async function convertToInteractive(key) {\n",
              "        const element = document.querySelector('#df-e2a9805b-3b3f-4fd3-b714-a1cac0584ed4');\n",
              "        const dataTable =\n",
              "          await google.colab.kernel.invokeFunction('convertToInteractive',\n",
              "                                                    [key], {});\n",
              "        if (!dataTable) return;\n",
              "\n",
              "        const docLinkHtml = 'Like what you see? Visit the ' +\n",
              "          '<a target=\"_blank\" href=https://colab.research.google.com/notebooks/data_table.ipynb>data table notebook</a>'\n",
              "          + ' to learn more about interactive tables.';\n",
              "        element.innerHTML = '';\n",
              "        dataTable['output_type'] = 'display_data';\n",
              "        await google.colab.output.renderOutput(dataTable, element);\n",
              "        const docLink = document.createElement('div');\n",
              "        docLink.innerHTML = docLinkHtml;\n",
              "        element.appendChild(docLink);\n",
              "      }\n",
              "    </script>\n",
              "  </div>\n",
              "\n",
              "\n",
              "<div id=\"df-1521b15c-47a9-4dd2-8da7-58e1f182532d\">\n",
              "  <button class=\"colab-df-quickchart\" onclick=\"quickchart('df-1521b15c-47a9-4dd2-8da7-58e1f182532d')\"\n",
              "            title=\"Suggest charts\"\n",
              "            style=\"display:none;\">\n",
              "\n",
              "<svg xmlns=\"http://www.w3.org/2000/svg\" height=\"24px\"viewBox=\"0 0 24 24\"\n",
              "     width=\"24px\">\n",
              "    <g>\n",
              "        <path d=\"M19 3H5c-1.1 0-2 .9-2 2v14c0 1.1.9 2 2 2h14c1.1 0 2-.9 2-2V5c0-1.1-.9-2-2-2zM9 17H7v-7h2v7zm4 0h-2V7h2v10zm4 0h-2v-4h2v4z\"/>\n",
              "    </g>\n",
              "</svg>\n",
              "  </button>\n",
              "\n",
              "<style>\n",
              "  .colab-df-quickchart {\n",
              "      --bg-color: #E8F0FE;\n",
              "      --fill-color: #1967D2;\n",
              "      --hover-bg-color: #E2EBFA;\n",
              "      --hover-fill-color: #174EA6;\n",
              "      --disabled-fill-color: #AAA;\n",
              "      --disabled-bg-color: #DDD;\n",
              "  }\n",
              "\n",
              "  [theme=dark] .colab-df-quickchart {\n",
              "      --bg-color: #3B4455;\n",
              "      --fill-color: #D2E3FC;\n",
              "      --hover-bg-color: #434B5C;\n",
              "      --hover-fill-color: #FFFFFF;\n",
              "      --disabled-bg-color: #3B4455;\n",
              "      --disabled-fill-color: #666;\n",
              "  }\n",
              "\n",
              "  .colab-df-quickchart {\n",
              "    background-color: var(--bg-color);\n",
              "    border: none;\n",
              "    border-radius: 50%;\n",
              "    cursor: pointer;\n",
              "    display: none;\n",
              "    fill: var(--fill-color);\n",
              "    height: 32px;\n",
              "    padding: 0;\n",
              "    width: 32px;\n",
              "  }\n",
              "\n",
              "  .colab-df-quickchart:hover {\n",
              "    background-color: var(--hover-bg-color);\n",
              "    box-shadow: 0 1px 2px rgba(60, 64, 67, 0.3), 0 1px 3px 1px rgba(60, 64, 67, 0.15);\n",
              "    fill: var(--button-hover-fill-color);\n",
              "  }\n",
              "\n",
              "  .colab-df-quickchart-complete:disabled,\n",
              "  .colab-df-quickchart-complete:disabled:hover {\n",
              "    background-color: var(--disabled-bg-color);\n",
              "    fill: var(--disabled-fill-color);\n",
              "    box-shadow: none;\n",
              "  }\n",
              "\n",
              "  .colab-df-spinner {\n",
              "    border: 2px solid var(--fill-color);\n",
              "    border-color: transparent;\n",
              "    border-bottom-color: var(--fill-color);\n",
              "    animation:\n",
              "      spin 1s steps(1) infinite;\n",
              "  }\n",
              "\n",
              "  @keyframes spin {\n",
              "    0% {\n",
              "      border-color: transparent;\n",
              "      border-bottom-color: var(--fill-color);\n",
              "      border-left-color: var(--fill-color);\n",
              "    }\n",
              "    20% {\n",
              "      border-color: transparent;\n",
              "      border-left-color: var(--fill-color);\n",
              "      border-top-color: var(--fill-color);\n",
              "    }\n",
              "    30% {\n",
              "      border-color: transparent;\n",
              "      border-left-color: var(--fill-color);\n",
              "      border-top-color: var(--fill-color);\n",
              "      border-right-color: var(--fill-color);\n",
              "    }\n",
              "    40% {\n",
              "      border-color: transparent;\n",
              "      border-right-color: var(--fill-color);\n",
              "      border-top-color: var(--fill-color);\n",
              "    }\n",
              "    60% {\n",
              "      border-color: transparent;\n",
              "      border-right-color: var(--fill-color);\n",
              "    }\n",
              "    80% {\n",
              "      border-color: transparent;\n",
              "      border-right-color: var(--fill-color);\n",
              "      border-bottom-color: var(--fill-color);\n",
              "    }\n",
              "    90% {\n",
              "      border-color: transparent;\n",
              "      border-bottom-color: var(--fill-color);\n",
              "    }\n",
              "  }\n",
              "</style>\n",
              "\n",
              "  <script>\n",
              "    async function quickchart(key) {\n",
              "      const quickchartButtonEl =\n",
              "        document.querySelector('#' + key + ' button');\n",
              "      quickchartButtonEl.disabled = true;  // To prevent multiple clicks.\n",
              "      quickchartButtonEl.classList.add('colab-df-spinner');\n",
              "      try {\n",
              "        const charts = await google.colab.kernel.invokeFunction(\n",
              "            'suggestCharts', [key], {});\n",
              "      } catch (error) {\n",
              "        console.error('Error during call to suggestCharts:', error);\n",
              "      }\n",
              "      quickchartButtonEl.classList.remove('colab-df-spinner');\n",
              "      quickchartButtonEl.classList.add('colab-df-quickchart-complete');\n",
              "    }\n",
              "    (() => {\n",
              "      let quickchartButtonEl =\n",
              "        document.querySelector('#df-1521b15c-47a9-4dd2-8da7-58e1f182532d button');\n",
              "      quickchartButtonEl.style.display =\n",
              "        google.colab.kernel.accessAllowed ? 'block' : 'none';\n",
              "    })();\n",
              "  </script>\n",
              "</div>\n",
              "\n",
              "    </div>\n",
              "  </div>\n"
            ],
            "application/vnd.google.colaboratory.intrinsic+json": {
              "type": "dataframe",
              "summary": "{\n  \"name\": \"data\",\n  \"rows\": 5,\n  \"fields\": [\n    {\n      \"column\": \"Rank\",\n      \"properties\": {\n        \"dtype\": \"number\",\n        \"std\": 391,\n        \"min\": 4527,\n        \"max\": 5410,\n        \"num_unique_values\": 5,\n        \"samples\": [\n          5361,\n          4527,\n          4963\n        ],\n        \"semantic_type\": \"\",\n        \"description\": \"\"\n      }\n    },\n    {\n      \"column\": \"Names\",\n      \"properties\": {\n        \"dtype\": \"string\",\n        \"num_unique_values\": 5,\n        \"samples\": [\n          \"national fertilizers\",\n          \"chennai petroleum\",\n          \"reliance infrastructure\"\n        ],\n        \"semantic_type\": \"\",\n        \"description\": \"\"\n      }\n    },\n    {\n      \"column\": \"Categories\",\n      \"properties\": {\n        \"dtype\": \"string\",\n        \"num_unique_values\": 5,\n        \"samples\": [\n          \"Fertilizer\",\n          \"Oil\",\n          \"Electricity\"\n        ],\n        \"semantic_type\": \"\",\n        \"description\": \"\"\n      }\n    }\n  ]\n}"
            }
          },
          "metadata": {},
          "execution_count": 251
        }
      ]
    }
  ]
}